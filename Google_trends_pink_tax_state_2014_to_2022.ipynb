{
  "nbformat": 4,
  "nbformat_minor": 0,
  "metadata": {
    "colab": {
      "provenance": [],
      "authorship_tag": "ABX9TyOQWgSWMCkOB7kTabL2GMiM",
      "include_colab_link": true
    },
    "kernelspec": {
      "name": "python3",
      "display_name": "Python 3"
    },
    "language_info": {
      "name": "python"
    }
  },
  "cells": [
    {
      "cell_type": "markdown",
      "metadata": {
        "id": "view-in-github",
        "colab_type": "text"
      },
      "source": [
        "<a href=\"https://colab.research.google.com/github/oceane0815/Pink_Tax/blob/main/Google_trends_pink_tax_state_2014_to_2022.ipynb\" target=\"_parent\"><img src=\"https://colab.research.google.com/assets/colab-badge.svg\" alt=\"Open In Colab\"/></a>"
      ]
    },
    {
      "cell_type": "code",
      "source": [
        "import pandas as pd\n",
        "import os\n",
        "\n",
        "# List of raw GitHub URLs for 51 CSV files\n",
        "csv_files = [\n",
        "    f'https://raw.githubusercontent.com/oceane0815/Pink_Tax/main/Raw_data_51_regions_copy/file{i}.csv'\n",
        "    for i in range(1, 52)\n",
        "]\n",
        "\n",
        "# Create an empty list to store processed DataFrames\n",
        "all_data = []\n",
        "\n",
        "# Loop through each CSV file URL\n",
        "for url in csv_files:\n",
        "    # Read the CSV file, skipping the first two rows and using the third row as header (labels)\n",
        "    df = pd.read_csv(url, skiprows=2)\n",
        "\n",
        "    # Ensure that we have at least 6 columns (adjust if your data is structured differently)\n",
        "    if len(df.columns) >= 6:\n",
        "        # Extract the state name from the 6th column's label (the column header)\n",
        "        full_label = df.columns[5]  # The 6th column is at index 5\n",
        "\n",
        "        # Split by \": \" and extract the part after \"Pink tax: \"\n",
        "        state_name = full_label.split(\": \")[1].strip(\"()\")  # Remove parentheses around the state name\n",
        "\n",
        "        # Calculate the average of baseline states (CA, NY, TX, IL)\n",
        "        baseline_avg = df.iloc[:, 1:5].mean(axis=1)\n",
        "        ## iloc[] is the integer-location based indexer in Pandas.\n",
        "        ## It allows you to select rows and columns based on their position (not labels)\n",
        "        ## axis=1 means \"compute the mean across columns (horizontally)\" for each row.\n",
        "\n",
        "        # Initialize an empty list to store the results\n",
        "        result = []\n",
        "\n",
        "        # Loop through each row to apply the custom logic\n",
        "        for i, avg in enumerate(baseline_avg):\n",
        "            sixth_col_value = df.iloc[i, 5]  # The 6th column value for the current row\n",
        "\n",
        "            # Apply the conditions\n",
        "            if avg == 0 and sixth_col_value == 0:\n",
        "                result.append(0)  # Both are 0\n",
        "            elif avg == 0 and sixth_col_value != 0:\n",
        "                result.append('*')  # Average is 0, but sixth column is non-zero\n",
        "            else:\n",
        "                result.append(sixth_col_value / avg)  # Normal case\n",
        "\n",
        "        # Add the result as a new column to the DataFrame\n",
        "        df[state_name] = result\n",
        "\n",
        "        # Append the processed DataFrame to the list, keeping only the 'Month' and the new result column\n",
        "        all_data.append(df[['Month', state_name]])  # Assuming the first column is 'Month'\n",
        "\n",
        "# Merge all DataFrames on the 'Month' column\n",
        "merged_df = all_data[0]\n",
        "for df in all_data[1:]:\n",
        "    merged_df = pd.merge(merged_df, df, on='Month', how='outer')\n",
        "\n",
        "# Save the merged DataFrame to a new CSV file\n",
        "output_file = '/content/merged_results.csv'\n",
        "merged_df.to_csv(output_file, index=False)\n",
        "\n",
        "# Display the first few rows of the merged DataFrame\n",
        "print(merged_df.head())\n",
        "\n",
        "# Download the merged file\n",
        "from google.colab import files\n",
        "files.download(output_file)\n"
      ],
      "metadata": {
        "colab": {
          "base_uri": "https://localhost:8080/",
          "height": 520
        },
        "id": "vo0n_3FPL2uz",
        "outputId": "2a2ccd34-eed3-4296-8a35-261088364846"
      },
      "execution_count": 5,
      "outputs": [
        {
          "output_type": "stream",
          "name": "stdout",
          "text": [
            "     Month  Alabama  Alaska  Arizona  Arkansas  California).1  Colorado  \\\n",
            "0  2014-01      0.0     0.0      0.0       0.0            0.0       0.0   \n",
            "1  2014-02      0.0     0.0      0.0       0.0            0.0       0.0   \n",
            "2  2014-03      0.0     0.0      0.0       0.0            0.0       0.0   \n",
            "3  2014-04      0.0     0.0      0.0       0.0            0.0       0.0   \n",
            "4  2014-05      0.0     0.0      0.0       0.0            0.0       0.0   \n",
            "\n",
            "   Connecticut District of Columbia  Delaware  ...  South Dakota  Tennessee  \\\n",
            "0          0.0                    0       0.0  ...           0.0        0.0   \n",
            "1          0.0                    0       0.0  ...           0.0        0.0   \n",
            "2          0.0                    0       0.0  ...           0.0        0.0   \n",
            "3          0.0                    0       0.0  ...           0.0        0.0   \n",
            "4          0.0                    0       0.0  ...           0.0        0.0   \n",
            "\n",
            "  Texas).1  Utah  Vermont  Virginia  Washington  West Virginia  Wisconsin  \\\n",
            "0      0.0   0.0      0.0       0.0         0.0            0.0        0.0   \n",
            "1      0.0   0.0      0.0       0.0         0.0            0.0        0.0   \n",
            "2      0.0   0.0      0.0       0.0         0.0            0.0        0.0   \n",
            "3      0.0   0.0      0.0       0.0         0.0            0.0        0.0   \n",
            "4      0.0   0.0      0.0       0.0         0.0            0.0        0.0   \n",
            "\n",
            "   Wyoming  \n",
            "0      0.0  \n",
            "1      0.0  \n",
            "2      0.0  \n",
            "3      0.0  \n",
            "4      0.0  \n",
            "\n",
            "[5 rows x 52 columns]\n"
          ]
        },
        {
          "output_type": "display_data",
          "data": {
            "text/plain": [
              "<IPython.core.display.Javascript object>"
            ],
            "application/javascript": [
              "\n",
              "    async function download(id, filename, size) {\n",
              "      if (!google.colab.kernel.accessAllowed) {\n",
              "        return;\n",
              "      }\n",
              "      const div = document.createElement('div');\n",
              "      const label = document.createElement('label');\n",
              "      label.textContent = `Downloading \"${filename}\": `;\n",
              "      div.appendChild(label);\n",
              "      const progress = document.createElement('progress');\n",
              "      progress.max = size;\n",
              "      div.appendChild(progress);\n",
              "      document.body.appendChild(div);\n",
              "\n",
              "      const buffers = [];\n",
              "      let downloaded = 0;\n",
              "\n",
              "      const channel = await google.colab.kernel.comms.open(id);\n",
              "      // Send a message to notify the kernel that we're ready.\n",
              "      channel.send({})\n",
              "\n",
              "      for await (const message of channel.messages) {\n",
              "        // Send a message to notify the kernel that we're ready.\n",
              "        channel.send({})\n",
              "        if (message.buffers) {\n",
              "          for (const buffer of message.buffers) {\n",
              "            buffers.push(buffer);\n",
              "            downloaded += buffer.byteLength;\n",
              "            progress.value = downloaded;\n",
              "          }\n",
              "        }\n",
              "      }\n",
              "      const blob = new Blob(buffers, {type: 'application/binary'});\n",
              "      const a = document.createElement('a');\n",
              "      a.href = window.URL.createObjectURL(blob);\n",
              "      a.download = filename;\n",
              "      div.appendChild(a);\n",
              "      a.click();\n",
              "      div.remove();\n",
              "    }\n",
              "  "
            ]
          },
          "metadata": {}
        },
        {
          "output_type": "display_data",
          "data": {
            "text/plain": [
              "<IPython.core.display.Javascript object>"
            ],
            "application/javascript": [
              "download(\"download_28be7340-161f-4115-a7c4-e1f736e345c1\", \"merged_results.csv\", 30815)"
            ]
          },
          "metadata": {}
        }
      ]
    },
    {
      "cell_type": "code",
      "source": [
        "import pandas as pd\n",
        "\n",
        "# URL of the first CSV file in your GitHub repository\n",
        "url = 'https://raw.githubusercontent.com/oceane0815/Pink_Tax/main/Raw_data_51_regions_copy/file1.csv'\n",
        "\n",
        "# Read the CSV file, skipping the first two rows and using the third row as header (labels)\n",
        "df = pd.read_csv(url, skiprows=2)\n",
        "\n",
        "# Ensure that we have at least 6 columns (adjust if your data is structured differently)\n",
        "if len(df.columns) >= 6:\n",
        "    # Extract the state name from the 6th column's label (the column header)\n",
        "    full_label = df.columns[5]  # The 6th column is at index 5\n",
        "\n",
        "    # Split by \": \" and extract the part after \"Pink tax: \"\n",
        "    state_name = full_label.split(\": \")[1].strip(\"()\")  # Remove parentheses around the state name\n",
        "\n",
        "    # Calculate the average of columns 2 to 5 (assuming 0-based indexing)\n",
        "    avg_cols_2_to_5 = df.iloc[:, 1:5].mean(axis=1)\n",
        "\n",
        "    # Initialize an empty list to store the results\n",
        "    result = []\n",
        "\n",
        "    # Loop through each row to apply the custom logic\n",
        "    for i, avg in enumerate(avg_cols_2_to_5):\n",
        "        sixth_col_value = df.iloc[i, 5]  # The 6th column value for the current row\n",
        "\n",
        "        # Apply the conditions\n",
        "        if avg == 0 and sixth_col_value == 0:\n",
        "            result.append(0)  # Both are 0\n",
        "        elif avg == 0 and sixth_col_value != 0:\n",
        "            result.append('*')  # Average is 0, but sixth column is non-zero\n",
        "        else:\n",
        "            result.append(sixth_col_value / avg)  # Normal case\n",
        "\n",
        "    # Add the result as a new column to the DataFrame\n",
        "    df[state_name + '_Result'] = result\n",
        "\n",
        "    # Display the first few rows of the DataFrame\n",
        "    print(df[['Month', state_name + '_Result']].head())\n",
        "\n",
        "# Save the modified DataFrame to a CSV file in Colab\n",
        "output_file = '/content/file1_result.csv'\n",
        "df[['Month', state_name + '_Result']].to_csv(output_file, index=False)\n",
        "\n",
        "# Optional: If you want to download the file directly from Colab\n",
        "from google.colab import files\n",
        "files.download(output_file)\n",
        "\n"
      ],
      "metadata": {
        "colab": {
          "base_uri": "https://localhost:8080/",
          "height": 121
        },
        "id": "IXV3HpsjUMbQ",
        "outputId": "652f316c-847f-49ff-8482-1f8c287930aa"
      },
      "execution_count": 4,
      "outputs": [
        {
          "output_type": "stream",
          "name": "stdout",
          "text": [
            "     Month  Alabama_Result\n",
            "0  2014-01             0.0\n",
            "1  2014-02             0.0\n",
            "2  2014-03             0.0\n",
            "3  2014-04             0.0\n",
            "4  2014-05             0.0\n"
          ]
        },
        {
          "output_type": "display_data",
          "data": {
            "text/plain": [
              "<IPython.core.display.Javascript object>"
            ],
            "application/javascript": [
              "\n",
              "    async function download(id, filename, size) {\n",
              "      if (!google.colab.kernel.accessAllowed) {\n",
              "        return;\n",
              "      }\n",
              "      const div = document.createElement('div');\n",
              "      const label = document.createElement('label');\n",
              "      label.textContent = `Downloading \"${filename}\": `;\n",
              "      div.appendChild(label);\n",
              "      const progress = document.createElement('progress');\n",
              "      progress.max = size;\n",
              "      div.appendChild(progress);\n",
              "      document.body.appendChild(div);\n",
              "\n",
              "      const buffers = [];\n",
              "      let downloaded = 0;\n",
              "\n",
              "      const channel = await google.colab.kernel.comms.open(id);\n",
              "      // Send a message to notify the kernel that we're ready.\n",
              "      channel.send({})\n",
              "\n",
              "      for await (const message of channel.messages) {\n",
              "        // Send a message to notify the kernel that we're ready.\n",
              "        channel.send({})\n",
              "        if (message.buffers) {\n",
              "          for (const buffer of message.buffers) {\n",
              "            buffers.push(buffer);\n",
              "            downloaded += buffer.byteLength;\n",
              "            progress.value = downloaded;\n",
              "          }\n",
              "        }\n",
              "      }\n",
              "      const blob = new Blob(buffers, {type: 'application/binary'});\n",
              "      const a = document.createElement('a');\n",
              "      a.href = window.URL.createObjectURL(blob);\n",
              "      a.download = filename;\n",
              "      div.appendChild(a);\n",
              "      a.click();\n",
              "      div.remove();\n",
              "    }\n",
              "  "
            ]
          },
          "metadata": {}
        },
        {
          "output_type": "display_data",
          "data": {
            "text/plain": [
              "<IPython.core.display.Javascript object>"
            ],
            "application/javascript": [
              "download(\"download_91aa752e-9160-4647-8829-f733ba4b43b3\", \"file1_result.csv\", 1389)"
            ]
          },
          "metadata": {}
        }
      ]
    }
  ]
}