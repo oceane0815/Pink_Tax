{
  "nbformat": 4,
  "nbformat_minor": 0,
  "metadata": {
    "colab": {
      "provenance": [],
      "authorship_tag": "ABX9TyPBVbvkwl0/lOCTnCK9j3XX",
      "include_colab_link": true
    },
    "kernelspec": {
      "name": "python3",
      "display_name": "Python 3"
    },
    "language_info": {
      "name": "python"
    }
  },
  "cells": [
    {
      "cell_type": "markdown",
      "metadata": {
        "id": "view-in-github",
        "colab_type": "text"
      },
      "source": [
        "<a href=\"https://colab.research.google.com/github/oceane0815/Pink_Tax/blob/main/Google_trends_pink_tax_state_2014_to_2022.ipynb\" target=\"_parent\"><img src=\"https://colab.research.google.com/assets/colab-badge.svg\" alt=\"Open In Colab\"/></a>"
      ]
    },
    {
      "cell_type": "code",
      "source": [
        "# Install Pytrends to fetch and analyze Google Trends data\n",
        "## !pip install pytrends\n",
        "\n",
        "# Import necessary libraries\n",
        "from pytrends.request import TrendReq\n",
        "import pandas as pd\n",
        "\n",
        "# Initialize pytrends connection\n",
        "pytrends = TrendReq(hl='en-US', tz=-300) # hl='en-US': host language is English(US); tz=-300 is EST time zone\n",
        "\n",
        "# Define 'Pink tax' as a topic ID\n",
        "keyword = \"/g/11c3vh5xfg\"  # Replace with the topic ID for 'Pink Tax'\n",
        "\n",
        "# Define the list of 50 US states (state abbreviations for geolocation)\n",
        "geo_list = ['US-AL', 'US-AK', 'US-AZ', 'US-AR', 'US-CA', 'US-CO', 'US-CT',\n",
        "            'US-DE', 'US-FL', 'US-GA', 'US-HI', 'US-ID', 'US-IL', 'US-IN',\n",
        "            'US-IA', 'US-KS', 'US-KY', 'US-LA', 'US-ME', 'US-MD', 'US-MA',\n",
        "            'US-MI', 'US-MN', 'US-MS', 'US-MO', 'US-MT', 'US-NE', 'US-NV',\n",
        "            'US-NH', 'US-NJ', 'US-NM', 'US-NY', 'US-NC', 'US-ND', 'US-OH',\n",
        "            'US-OK', 'US-OR', 'US-PA', 'US-RI', 'US-SC', 'US-SD', 'US-TN',\n",
        "            'US-TX', 'US-UT', 'US-VT', 'US-VA', 'US-WA', 'US-WV', 'US-WI', 'US-WY']\n",
        "\n",
        "# Create a list to store all the data\n",
        "all_data = []\n",
        "\n",
        "\n"
      ],
      "metadata": {
        "colab": {
          "base_uri": "https://localhost:8080/"
        },
        "id": "fdkotcO81Ezm",
        "outputId": "5ea415c3-fdf6-48b0-bb7c-ffe9c2c537df"
      },
      "execution_count": 36,
      "outputs": [
        {
          "output_type": "stream",
          "name": "stdout",
          "text": [
            "On branch main\n",
            "Your branch is up to date with 'origin/main'.\n",
            "\n",
            "nothing to commit, working tree clean\n"
          ]
        }
      ]
    },
    {
      "cell_type": "markdown",
      "source": [],
      "metadata": {
        "id": "ddj8u8U36hY6"
      }
    }
  ]
}