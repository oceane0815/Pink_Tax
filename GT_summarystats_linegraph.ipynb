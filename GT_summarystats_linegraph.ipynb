{
  "nbformat": 4,
  "nbformat_minor": 0,
  "metadata": {
    "colab": {
      "provenance": [],
      "authorship_tag": "ABX9TyOd6dSYkXWTjsX2pUy4Ds31",
      "include_colab_link": true
    },
    "kernelspec": {
      "name": "python3",
      "display_name": "Python 3"
    },
    "language_info": {
      "name": "python"
    }
  },
  "cells": [
    {
      "cell_type": "markdown",
      "metadata": {
        "id": "view-in-github",
        "colab_type": "text"
      },
      "source": [
        "<a href=\"https://colab.research.google.com/github/oceane0815/Pink_Tax/blob/main/GT_summarystats_linegraph.ipynb\" target=\"_parent\"><img src=\"https://colab.research.google.com/assets/colab-badge.svg\" alt=\"Open In Colab\"/></a>"
      ]
    },
    {
      "cell_type": "code",
      "execution_count": 54,
      "metadata": {
        "colab": {
          "base_uri": "https://localhost:8080/",
          "height": 17
        },
        "id": "GctU14mV_qwg",
        "outputId": "fabbca31-f710-4dd2-ea46-972596241918"
      },
      "outputs": [
        {
          "output_type": "display_data",
          "data": {
            "text/plain": [
              "<IPython.core.display.Javascript object>"
            ],
            "application/javascript": [
              "\n",
              "    async function download(id, filename, size) {\n",
              "      if (!google.colab.kernel.accessAllowed) {\n",
              "        return;\n",
              "      }\n",
              "      const div = document.createElement('div');\n",
              "      const label = document.createElement('label');\n",
              "      label.textContent = `Downloading \"${filename}\": `;\n",
              "      div.appendChild(label);\n",
              "      const progress = document.createElement('progress');\n",
              "      progress.max = size;\n",
              "      div.appendChild(progress);\n",
              "      document.body.appendChild(div);\n",
              "\n",
              "      const buffers = [];\n",
              "      let downloaded = 0;\n",
              "\n",
              "      const channel = await google.colab.kernel.comms.open(id);\n",
              "      // Send a message to notify the kernel that we're ready.\n",
              "      channel.send({})\n",
              "\n",
              "      for await (const message of channel.messages) {\n",
              "        // Send a message to notify the kernel that we're ready.\n",
              "        channel.send({})\n",
              "        if (message.buffers) {\n",
              "          for (const buffer of message.buffers) {\n",
              "            buffers.push(buffer);\n",
              "            downloaded += buffer.byteLength;\n",
              "            progress.value = downloaded;\n",
              "          }\n",
              "        }\n",
              "      }\n",
              "      const blob = new Blob(buffers, {type: 'application/binary'});\n",
              "      const a = document.createElement('a');\n",
              "      a.href = window.URL.createObjectURL(blob);\n",
              "      a.download = filename;\n",
              "      div.appendChild(a);\n",
              "      a.click();\n",
              "      div.remove();\n",
              "    }\n",
              "  "
            ]
          },
          "metadata": {}
        },
        {
          "output_type": "display_data",
          "data": {
            "text/plain": [
              "<IPython.core.display.Javascript object>"
            ],
            "application/javascript": [
              "download(\"download_c69e3c93-b678-4212-8142-251fb19f9962\", \"fig_cum_top_17_states.png\", 133935)"
            ]
          },
          "metadata": {}
        },
        {
          "output_type": "display_data",
          "data": {
            "text/plain": [
              "<IPython.core.display.Javascript object>"
            ],
            "application/javascript": [
              "\n",
              "    async function download(id, filename, size) {\n",
              "      if (!google.colab.kernel.accessAllowed) {\n",
              "        return;\n",
              "      }\n",
              "      const div = document.createElement('div');\n",
              "      const label = document.createElement('label');\n",
              "      label.textContent = `Downloading \"${filename}\": `;\n",
              "      div.appendChild(label);\n",
              "      const progress = document.createElement('progress');\n",
              "      progress.max = size;\n",
              "      div.appendChild(progress);\n",
              "      document.body.appendChild(div);\n",
              "\n",
              "      const buffers = [];\n",
              "      let downloaded = 0;\n",
              "\n",
              "      const channel = await google.colab.kernel.comms.open(id);\n",
              "      // Send a message to notify the kernel that we're ready.\n",
              "      channel.send({})\n",
              "\n",
              "      for await (const message of channel.messages) {\n",
              "        // Send a message to notify the kernel that we're ready.\n",
              "        channel.send({})\n",
              "        if (message.buffers) {\n",
              "          for (const buffer of message.buffers) {\n",
              "            buffers.push(buffer);\n",
              "            downloaded += buffer.byteLength;\n",
              "            progress.value = downloaded;\n",
              "          }\n",
              "        }\n",
              "      }\n",
              "      const blob = new Blob(buffers, {type: 'application/binary'});\n",
              "      const a = document.createElement('a');\n",
              "      a.href = window.URL.createObjectURL(blob);\n",
              "      a.download = filename;\n",
              "      div.appendChild(a);\n",
              "      a.click();\n",
              "      div.remove();\n",
              "    }\n",
              "  "
            ]
          },
          "metadata": {}
        },
        {
          "output_type": "display_data",
          "data": {
            "text/plain": [
              "<IPython.core.display.Javascript object>"
            ],
            "application/javascript": [
              "download(\"download_8b2c4af1-6e47-4840-b5c5-06e50fc1e3e9\", \"fig_cum_middle_17_states.png\", 102250)"
            ]
          },
          "metadata": {}
        },
        {
          "output_type": "display_data",
          "data": {
            "text/plain": [
              "<IPython.core.display.Javascript object>"
            ],
            "application/javascript": [
              "\n",
              "    async function download(id, filename, size) {\n",
              "      if (!google.colab.kernel.accessAllowed) {\n",
              "        return;\n",
              "      }\n",
              "      const div = document.createElement('div');\n",
              "      const label = document.createElement('label');\n",
              "      label.textContent = `Downloading \"${filename}\": `;\n",
              "      div.appendChild(label);\n",
              "      const progress = document.createElement('progress');\n",
              "      progress.max = size;\n",
              "      div.appendChild(progress);\n",
              "      document.body.appendChild(div);\n",
              "\n",
              "      const buffers = [];\n",
              "      let downloaded = 0;\n",
              "\n",
              "      const channel = await google.colab.kernel.comms.open(id);\n",
              "      // Send a message to notify the kernel that we're ready.\n",
              "      channel.send({})\n",
              "\n",
              "      for await (const message of channel.messages) {\n",
              "        // Send a message to notify the kernel that we're ready.\n",
              "        channel.send({})\n",
              "        if (message.buffers) {\n",
              "          for (const buffer of message.buffers) {\n",
              "            buffers.push(buffer);\n",
              "            downloaded += buffer.byteLength;\n",
              "            progress.value = downloaded;\n",
              "          }\n",
              "        }\n",
              "      }\n",
              "      const blob = new Blob(buffers, {type: 'application/binary'});\n",
              "      const a = document.createElement('a');\n",
              "      a.href = window.URL.createObjectURL(blob);\n",
              "      a.download = filename;\n",
              "      div.appendChild(a);\n",
              "      a.click();\n",
              "      div.remove();\n",
              "    }\n",
              "  "
            ]
          },
          "metadata": {}
        },
        {
          "output_type": "display_data",
          "data": {
            "text/plain": [
              "<IPython.core.display.Javascript object>"
            ],
            "application/javascript": [
              "download(\"download_4286ffac-8035-44c4-a1e0-63c4873a7fe0\", \"fig_cum_lowest_17_states.png\", 67393)"
            ]
          },
          "metadata": {}
        }
      ],
      "source": [
        "import pandas as pd\n",
        "\n",
        "%cd /content/Pink_Tax/\n",
        "\n",
        "###################### Descrpitive Statistics for Google Trends Data #############################\n",
        "# URL of the merged CSV file in your GitHub repository\n",
        "url = 'https://raw.githubusercontent.com/oceane0815/Pink_Tax/main/google_trends_merged_updated.csv'\n",
        "\n",
        "# Read the merged CSV file\n",
        "df = pd.read_csv(url)\n",
        "\n",
        "# summary statistics\n",
        "summary_stats = df.drop(columns='Month').describe().T\n",
        "\n",
        "# Sort the summary_stats based on the 'mean' column\n",
        "sorted_summary_stats = summary_stats.sort_values(by='mean', ascending=False)\n",
        "print(sorted_summary_stats)\n",
        "\n",
        "# Export to Latex code\n",
        "latex_summary_stats = sorted_summary_stats.to_latex()\n",
        "print(latex_summary_stats)\n",
        "\n",
        "# Save the LaTeX code to a .tex file\n",
        "with open('summary_stats_table.tex', 'w') as f:\n",
        "    f.write(latex_summary_stats)\n",
        "\n",
        "print(\"LaTeX table saved as 'summary_stats_table.tex'\")\n",
        "from google.colab import files\n",
        "\n",
        "# Download the .tex file from Colab's file system\n",
        "files.download('/content/Pink_Tax/summary_stats_table.tex')\n",
        "\n",
        "\n",
        "####################### Line Graph for Cumulative Google Trends Data ##############################\n",
        "import matplotlib.pyplot as plt\n",
        "\n",
        "# URL of the merged CSV file in your GitHub repository\n",
        "url_cum = 'https://raw.githubusercontent.com/oceane0815/Pink_Tax/main/cumulative_sum_results_updated.csv'\n",
        "\n",
        "# Read the merged cumulative CSV file\n",
        "df_cum = pd.read_csv(url_cum)\n",
        "\n",
        "# Set the 'Month' column as the index for better plotting\n",
        "df_cum['Month'] = pd.to_datetime(df['Month'])  # Ensure 'Month' is in datetime format\n",
        "df_cum.set_index('Month', inplace=True)\n",
        "\n",
        "# Remove the \"_cumulative\" suffix from the column names to get just the state names\n",
        "df_cum.columns = df_cum.columns.str.replace('_Cumulative', '', regex=False)\n",
        "\n",
        "# Sort the states based on mean values (from summary statistics)\n",
        "sorted_states = sorted_summary_stats.index\n",
        "\n",
        "# Divide into top, middle, and lowest 17 states\n",
        "top_17_states = sorted_states[:17]       # First 17 states (highest means)\n",
        "middle_17_states = sorted_states[17:34]  # Middle 17 states\n",
        "lowest_17_states = sorted_states[34:]    # Last 17 states (lowest means)\n",
        "\n",
        "# Filter the DataFrame based on these groups\n",
        "top_17_df = df_cum[top_17_states]\n",
        "middle_17_df = df_cum[middle_17_states]\n",
        "lowest_17_df = df_cum[lowest_17_states]\n",
        "print(top_17_df)\n",
        "print(middle_17_df)\n",
        "print(lowest_17_df)\n",
        "\n",
        "# Plot for top 17 states\n",
        "plt.figure(figsize=(12, 8))\n",
        "for state in top_17_df.columns:\n",
        "    plt.plot(top_17_df.index, top_17_df[state], label=state)\n",
        "plt.xlabel('Month')\n",
        "plt.ylabel('Cumulative Google Trends Value')\n",
        "plt.title('Top 17 States by Mean Google Trends Value')\n",
        "plt.legend(loc='upper left', ncol=2)\n",
        "\n",
        "# Save the figure to a file\n",
        "plt.tight_layout()\n",
        "plt.savefig('fig_cum_top_17_states.png')\n",
        "plt.show()\n",
        "\n",
        "# Plot for middle 17 states\n",
        "plt.figure(figsize=(12, 8))\n",
        "for state in middle_17_df.columns:\n",
        "    plt.plot(middle_17_df.index, middle_17_df[state], label=state)\n",
        "plt.xlabel('Month')\n",
        "plt.ylabel('Cumulative Google Trends Value')\n",
        "plt.title('Middle 17 States by Mean Google Trends Value')\n",
        "plt.legend(loc='upper right', ncol=2)\n",
        "\n",
        "# Save the figure to a file\n",
        "plt.tight_layout()\n",
        "plt.savefig('fig_cum_middle_17_states.png')\n",
        "plt.show()\n",
        "\n",
        "# Plot for lowest 17 states\n",
        "plt.figure(figsize=(12, 8))\n",
        "for state in lowest_17_df.columns:\n",
        "    plt.plot(lowest_17_df.index, lowest_17_df[state], label=state)\n",
        "plt.xlabel('Month')\n",
        "plt.ylabel('Cumulative Google Trends Value')\n",
        "plt.title('Lowest 17 States by Mean Google Trends Value')\n",
        "plt.legend(loc='upper right', ncol=2)\n",
        "\n",
        "# Save the figure to a file\n",
        "plt.tight_layout()\n",
        "plt.savefig('fig_cum_lowest_17_states.png')\n",
        "plt.show()\n",
        "\n",
        "# Download the saved figures\n",
        "files.download('fig_cum_top_17_states.png')\n",
        "files.download('fig_cum_middle_17_states.png')\n",
        "files.download('fig_cum_lowest_17_states.png')"
      ]
    }
  ]
}