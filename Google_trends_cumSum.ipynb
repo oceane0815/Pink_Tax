{
  "nbformat": 4,
  "nbformat_minor": 0,
  "metadata": {
    "colab": {
      "provenance": [],
      "authorship_tag": "ABX9TyP2Y/kRC6ZFxl7vNjbzd9E6",
      "include_colab_link": true
    },
    "kernelspec": {
      "name": "python3",
      "display_name": "Python 3"
    },
    "language_info": {
      "name": "python"
    }
  },
  "cells": [
    {
      "cell_type": "markdown",
      "metadata": {
        "id": "view-in-github",
        "colab_type": "text"
      },
      "source": [
        "<a href=\"https://colab.research.google.com/github/oceane0815/Pink_Tax/blob/main/Google_trends_cumSum.ipynb\" target=\"_parent\"><img src=\"https://colab.research.google.com/assets/colab-badge.svg\" alt=\"Open In Colab\"/></a>"
      ]
    },
    {
      "cell_type": "code",
      "execution_count": 1,
      "metadata": {
        "colab": {
          "base_uri": "https://localhost:8080/",
          "height": 1000
        },
        "id": "uzfLSdX5i8LU",
        "outputId": "cefa0abc-dbf4-4bd0-95a6-7324018330ec"
      },
      "outputs": [
        {
          "output_type": "stream",
          "name": "stdout",
          "text": [
            "     Month  Alabama  Alaska  Arizona  Arkansas  California  Colorado  \\\n",
            "0  2014-01      0.0       0      0.0       0.0         0.0       0.0   \n",
            "1  2014-02      0.0       0      0.0       0.0         0.0       0.0   \n",
            "2  2014-03      0.0       0      0.0       0.0         0.0       0.0   \n",
            "3  2014-04      0.0       0      0.0       0.0         0.0       0.0   \n",
            "4  2014-05      0.0       0      0.0       0.0         0.0       0.0   \n",
            "\n",
            "   Connecticut District of Columbia  Delaware  ...  South Dakota  Tennessee  \\\n",
            "0          0.0                    0         0  ...             0        0.0   \n",
            "1          0.0                    0         0  ...             0        0.0   \n",
            "2          0.0                    0         0  ...             0        0.0   \n",
            "3          0.0                    0         0  ...             0        0.0   \n",
            "4          0.0                    0         0  ...             0        0.0   \n",
            "\n",
            "  Texas  Utah  Vermont  Virginia  Washington  West Virginia  Wisconsin  \\\n",
            "0   0.0   0.0        0       0.0         0.0              0        0.0   \n",
            "1   0.0   0.0        0       0.0         0.0              0        0.0   \n",
            "2   0.0   0.0        0       0.0         0.0              0        0.0   \n",
            "3   0.0   0.0        0       0.0         0.0              0        0.0   \n",
            "4   0.0   0.0        0       0.0         0.0              0        0.0   \n",
            "\n",
            "   Wyoming  \n",
            "0      0.0  \n",
            "1      0.0  \n",
            "2      0.0  \n",
            "3      0.0  \n",
            "4      0.0  \n",
            "\n",
            "[5 rows x 52 columns]\n",
            "     Month  Alabama_Cumulative  Alaska_Cumulative  Arizona_Cumulative  \\\n",
            "0  2014-01                 0.0                  0                 0.0   \n",
            "1  2014-02                 0.0                  0                 0.0   \n",
            "2  2014-03                 0.0                  0                 0.0   \n",
            "3  2014-04                 0.0                  0                 0.0   \n",
            "4  2014-05                 0.0                  0                 0.0   \n",
            "\n",
            "   Arkansas_Cumulative  California_Cumulative  Colorado_Cumulative  \\\n",
            "0                  0.0                    0.0                  0.0   \n",
            "1                  0.0                    0.0                  0.0   \n",
            "2                  0.0                    0.0                  0.0   \n",
            "3                  0.0                    0.0                  0.0   \n",
            "4                  0.0                    0.0                  0.0   \n",
            "\n",
            "   Connecticut_Cumulative  District of Columbia_Cumulative  \\\n",
            "0                     0.0                              0.0   \n",
            "1                     0.0                              0.0   \n",
            "2                     0.0                              0.0   \n",
            "3                     0.0                              0.0   \n",
            "4                     0.0                              0.0   \n",
            "\n",
            "   Delaware_Cumulative  ...  South Dakota_Cumulative  Tennessee_Cumulative  \\\n",
            "0                    0  ...                        0                   0.0   \n",
            "1                    0  ...                        0                   0.0   \n",
            "2                    0  ...                        0                   0.0   \n",
            "3                    0  ...                        0                   0.0   \n",
            "4                    0  ...                        0                   0.0   \n",
            "\n",
            "   Texas_Cumulative  Utah_Cumulative  Vermont_Cumulative  Virginia_Cumulative  \\\n",
            "0               0.0              0.0                   0                  0.0   \n",
            "1               0.0              0.0                   0                  0.0   \n",
            "2               0.0              0.0                   0                  0.0   \n",
            "3               0.0              0.0                   0                  0.0   \n",
            "4               0.0              0.0                   0                  0.0   \n",
            "\n",
            "   Washington_Cumulative  West Virginia_Cumulative  Wisconsin_Cumulative  \\\n",
            "0                    0.0                         0                   0.0   \n",
            "1                    0.0                         0                   0.0   \n",
            "2                    0.0                         0                   0.0   \n",
            "3                    0.0                         0                   0.0   \n",
            "4                    0.0                         0                   0.0   \n",
            "\n",
            "   Wyoming_Cumulative  \n",
            "0                 0.0  \n",
            "1                 0.0  \n",
            "2                 0.0  \n",
            "3                 0.0  \n",
            "4                 0.0  \n",
            "\n",
            "[5 rows x 52 columns]\n"
          ]
        },
        {
          "output_type": "display_data",
          "data": {
            "text/plain": [
              "<IPython.core.display.Javascript object>"
            ],
            "application/javascript": [
              "\n",
              "    async function download(id, filename, size) {\n",
              "      if (!google.colab.kernel.accessAllowed) {\n",
              "        return;\n",
              "      }\n",
              "      const div = document.createElement('div');\n",
              "      const label = document.createElement('label');\n",
              "      label.textContent = `Downloading \"${filename}\": `;\n",
              "      div.appendChild(label);\n",
              "      const progress = document.createElement('progress');\n",
              "      progress.max = size;\n",
              "      div.appendChild(progress);\n",
              "      document.body.appendChild(div);\n",
              "\n",
              "      const buffers = [];\n",
              "      let downloaded = 0;\n",
              "\n",
              "      const channel = await google.colab.kernel.comms.open(id);\n",
              "      // Send a message to notify the kernel that we're ready.\n",
              "      channel.send({})\n",
              "\n",
              "      for await (const message of channel.messages) {\n",
              "        // Send a message to notify the kernel that we're ready.\n",
              "        channel.send({})\n",
              "        if (message.buffers) {\n",
              "          for (const buffer of message.buffers) {\n",
              "            buffers.push(buffer);\n",
              "            downloaded += buffer.byteLength;\n",
              "            progress.value = downloaded;\n",
              "          }\n",
              "        }\n",
              "      }\n",
              "      const blob = new Blob(buffers, {type: 'application/binary'});\n",
              "      const a = document.createElement('a');\n",
              "      a.href = window.URL.createObjectURL(blob);\n",
              "      a.download = filename;\n",
              "      div.appendChild(a);\n",
              "      a.click();\n",
              "      div.remove();\n",
              "    }\n",
              "  "
            ]
          },
          "metadata": {}
        },
        {
          "output_type": "display_data",
          "data": {
            "text/plain": [
              "<IPython.core.display.Javascript object>"
            ],
            "application/javascript": [
              "download(\"download_750ba854-b6fa-4271-9918-d2024ff10ac3\", \"cumulative_sum_results.csv\", 58449)"
            ]
          },
          "metadata": {}
        }
      ],
      "source": [
        "import pandas as pd\n",
        "\n",
        "# URL of the merged CSV file in your GitHub repository\n",
        "url = 'https://raw.githubusercontent.com/oceane0815/Pink_Tax/main/google_trends_merged.csv'\n",
        "\n",
        "# Read the merged CSV file\n",
        "df = pd.read_csv(url)\n",
        "\n",
        "# Display the first few rows to verify the structure\n",
        "print(df.head())\n",
        "\n",
        "# Create an empty DataFrame to store only 'Month' and cumulative sum results\n",
        "cum_sum_df = pd.DataFrame()\n",
        "\n",
        "# Keep the 'Month' column\n",
        "cum_sum_df['Month'] = df['Month']\n",
        "\n",
        "# Loop through each state (all columns except the 'Month' column)\n",
        "for col in df.columns[1:]:  # Skipping the 'Month' column, which is the first column\n",
        "    # Replace '*' with NaN to avoid issues in numeric calculations\n",
        "    df[col] = pd.to_numeric(df[col], errors='coerce')\n",
        "\n",
        "    # Calculate the cumulative sum for each state, ignoring NaN values\n",
        "    cum_sum_df[col + '_Cumulative'] = df[col].cumsum()\n",
        "\n",
        "# Save the cumulative sum DataFrame to a new CSV file\n",
        "output_file = '/content/cumulative_sum_results.csv'\n",
        "cum_sum_df.to_csv(output_file, index=False)\n",
        "\n",
        "# Display the first few rows of the new cumulative sum DataFrame\n",
        "print(cum_sum_df.head())\n",
        "\n",
        "# Optional: If you want to download the file directly from Colab\n",
        "from google.colab import files\n",
        "files.download(output_file)\n"
      ]
    }
  ]
}